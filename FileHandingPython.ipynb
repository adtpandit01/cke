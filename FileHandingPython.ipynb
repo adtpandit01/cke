{
 "cells": [
  {
   "cell_type": "code",
   "execution_count": 5,
   "metadata": {},
   "outputs": [],
   "source": [
    "import os\n",
    "os.chdir(\"C:\\PythonProgarms\")"
   ]
  },
  {
   "cell_type": "code",
   "execution_count": 2,
   "metadata": {},
   "outputs": [],
   "source": [
    "# Create a file using simple file operation\n",
    "file = open('demo.txt', 'w')\n",
    "file.write('Welcome to World of Python\\nIts fast and efficient\\nWe love Python')\n",
    "file.close()"
   ]
  },
  {
   "cell_type": "code",
   "execution_count": 3,
   "metadata": {},
   "outputs": [],
   "source": [
    "# Create a file with try-except-finally\n",
    "file = open('demo.txt', 'w')\n",
    "try:\n",
    "    file.write('Welcome to World of Python\\nIts fast and efficient\\nWe love Python')\n",
    "finally:\n",
    "    file.close()"
   ]
  },
  {
   "cell_type": "code",
   "execution_count": 8,
   "metadata": {},
   "outputs": [],
   "source": [
    "# Create a file using with statement\n",
    "with open('demo.txt', 'w') as file:\n",
    "    file.write('Welcome to World of Python\\nIts fast and efficient\\nWe love Python very much')"
   ]
  },
  {
   "cell_type": "code",
   "execution_count": 9,
   "metadata": {},
   "outputs": [
    {
     "name": "stdout",
     "output_type": "stream",
     "text": [
      "Welcome to World of Python\n",
      "Its fast and efficient\n",
      "We love Python very much\n"
     ]
    }
   ],
   "source": [
    "# Write a program to read all the contents of a file demo.txt\n",
    "f = open(\"demo.txt\", \"r\")\n",
    "print(f.read())\n",
    "f.close()"
   ]
  },
  {
   "cell_type": "code",
   "execution_count": 12,
   "metadata": {},
   "outputs": [
    {
     "name": "stdout",
     "output_type": "stream",
     "text": [
      "Welcome to World of Python\n",
      "Its fast and efficient\n",
      "We love Python very much"
     ]
    }
   ],
   "source": [
    "# Write a program to read all the contents of a file demo.txt line by line\n",
    "f = open(\"demo.txt\", \"r\")\n",
    "for x in f:\n",
    "     print(x,end='')\n",
    "f.close()"
   ]
  },
  {
   "cell_type": "code",
   "execution_count": 13,
   "metadata": {},
   "outputs": [
    {
     "name": "stdout",
     "output_type": "stream",
     "text": [
      "W\n",
      "e\n",
      "l\n",
      "c\n",
      "o\n",
      "m\n",
      "e\n",
      " \n",
      "t\n",
      "o\n",
      " \n",
      "W\n",
      "o\n",
      "r\n",
      "l\n",
      "d\n",
      " \n",
      "o\n",
      "f\n",
      " \n",
      "P\n",
      "y\n",
      "t\n",
      "h\n",
      "o\n",
      "n\n",
      "\n",
      "\n",
      "I\n",
      "t\n",
      "s\n",
      " \n",
      "f\n",
      "a\n",
      "s\n",
      "t\n",
      " \n",
      "a\n",
      "n\n",
      "d\n",
      " \n",
      "e\n",
      "f\n",
      "f\n",
      "i\n",
      "c\n",
      "i\n",
      "e\n",
      "n\n",
      "t\n",
      "\n",
      "\n",
      "W\n",
      "e\n",
      " \n",
      "l\n",
      "o\n",
      "v\n",
      "e\n",
      " \n",
      "P\n",
      "y\n",
      "t\n",
      "h\n",
      "o\n",
      "n\n",
      " \n",
      "v\n",
      "e\n",
      "r\n",
      "y\n",
      " \n",
      "m\n",
      "u\n",
      "c\n",
      "h\n"
     ]
    }
   ],
   "source": [
    "# Write a program to read all the contents of a file demo.txt character by characater\n",
    "f = open(\"demo.txt\", \"r\")\n",
    "for x in f.read():\n",
    "     print(x)\n",
    "f.close()"
   ]
  },
  {
   "cell_type": "code",
   "execution_count": 14,
   "metadata": {},
   "outputs": [],
   "source": [
    "os.mkdir(\"drpsharma\")"
   ]
  },
  {
   "cell_type": "code",
   "execution_count": 15,
   "metadata": {},
   "outputs": [],
   "source": [
    "os.rmdir(\"drpsharma\")"
   ]
  },
  {
   "cell_type": "code",
   "execution_count": 16,
   "metadata": {},
   "outputs": [],
   "source": [
    "os.rename(\"demo.txt\",\"sample.txt\")"
   ]
  },
  {
   "cell_type": "code",
   "execution_count": 18,
   "metadata": {},
   "outputs": [],
   "source": [
    "os.remove(\"sample.txt\")"
   ]
  },
  {
   "cell_type": "markdown",
   "metadata": {},
   "source": [
    "Assignments\n",
    "\n",
    "1. Write a program to input source file and and target file name. Copy the contents of source file to target file if file exists else show an error message \"Source File Not Found\"\n",
    "2. Write a program to input few lines of code and write into a file. Now show the following report\n",
    "   \n",
    "   Characater Count=<n>\n",
    "    \n",
    "   Word Word: <n>\n",
    "    \n",
    "   Line Count: <n>"
   ]
  },
  {
   "cell_type": "code",
   "execution_count": null,
   "metadata": {},
   "outputs": [],
   "source": []
  }
 ],
 "metadata": {
  "kernelspec": {
   "display_name": "Python 3",
   "language": "python",
   "name": "python3"
  },
  "language_info": {
   "codemirror_mode": {
    "name": "ipython",
    "version": 3
   },
   "file_extension": ".py",
   "mimetype": "text/x-python",
   "name": "python",
   "nbconvert_exporter": "python",
   "pygments_lexer": "ipython3",
   "version": "3.8.5"
  }
 },
 "nbformat": 4,
 "nbformat_minor": 4
}
