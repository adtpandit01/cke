{
 "cells": [
  {
   "cell_type": "code",
   "execution_count": 1,
   "metadata": {},
   "outputs": [],
   "source": [
    "import requests"
   ]
  },
  {
   "cell_type": "code",
   "execution_count": 2,
   "metadata": {},
   "outputs": [],
   "source": [
    "r = requests.get('https://drbpsharma.me/')"
   ]
  },
  {
   "cell_type": "code",
   "execution_count": 4,
   "metadata": {},
   "outputs": [
    {
     "data": {
      "text/plain": [
       "'ï»¿<!DOCTYPE html>\\n<html>\\n<head>\\n<title>Personal Website ~ Prof.(Dr.) B P Sharma</title>\\n<meta name=\"keywords\" content=\"Dr B P Sharma, Blockchain Professional, Business Analyst, Coding Guru\">\\n<meta name=\"description\" content=\"Prof.(Dr). B P Sharma is a Blockchain Professional, Business Analyst and Coding Guru =\">\\n<!--mobile apps-->\\n<meta name=\"viewport\" content=\"width=device-width, initial-scale=1\">\\n<meta http-equiv=\"Content-Type\" content=\"text/html; charset=utf-8\" />\\n<link href=\"css/bootstrap.c'"
      ]
     },
     "execution_count": 4,
     "metadata": {},
     "output_type": "execute_result"
    }
   ],
   "source": [
    "r.text[:500]"
   ]
  },
  {
   "cell_type": "code",
   "execution_count": 5,
   "metadata": {},
   "outputs": [
    {
     "name": "stdout",
     "output_type": "stream",
     "text": [
      "<title>Personal Website ~ Prof.(Dr.) B P Sharma</title>\n",
      "Personal Website ~ Prof.(Dr.) B P Sharma\n"
     ]
    }
   ],
   "source": [
    "import urllib3\n",
    "from bs4 import BeautifulSoup\n",
    "http = urllib3.PoolManager()\n",
    "r = http.request('GET', 'https://drbpsharma.me')\n",
    "soup = BeautifulSoup(r.data, 'lxml')\n",
    "print (soup.title)\n",
    "print (soup.title.text)"
   ]
  },
  {
   "cell_type": "code",
   "execution_count": null,
   "metadata": {},
   "outputs": [],
   "source": []
  }
 ],
 "metadata": {
  "kernelspec": {
   "display_name": "Python 3",
   "language": "python",
   "name": "python3"
  },
  "language_info": {
   "codemirror_mode": {
    "name": "ipython",
    "version": 3
   },
   "file_extension": ".py",
   "mimetype": "text/x-python",
   "name": "python",
   "nbconvert_exporter": "python",
   "pygments_lexer": "ipython3",
   "version": "3.8.5"
  }
 },
 "nbformat": 4,
 "nbformat_minor": 4
}
