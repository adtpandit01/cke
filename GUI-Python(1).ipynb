{
 "cells": [
  {
   "cell_type": "code",
   "execution_count": null,
   "metadata": {},
   "outputs": [],
   "source": [
    "conda install tk"
   ]
  },
  {
   "cell_type": "markdown",
   "metadata": {},
   "source": [
    "Classes used in tkinter\n",
    "\n",
    "Tk      --- to create the main form generally refers as root\n",
    "\n",
    "Label    --- to create a label\n",
    "\n",
    "Button  --- to create a Button\n"
   ]
  },
  {
   "cell_type": "code",
   "execution_count": 3,
   "metadata": {},
   "outputs": [],
   "source": [
    "# create a new frame\n",
    "from tkinter import *\n",
    "root = Tk()\n",
    "root.geometry(\"600x250\")\n",
    "root.mainloop()"
   ]
  },
  {
   "cell_type": "code",
   "execution_count": 8,
   "metadata": {},
   "outputs": [],
   "source": [
    "# Using Label in Frame\n",
    "from tkinter import *\n",
    "root= Tk()\n",
    "root.geometry(\"600x250\")\n",
    "\n",
    "my_text= Label(root, text= \"This is a New Line Text\", font=('Helvetica bold', 16))\n",
    "my_text.pack(pady=30)\n",
    "\n",
    "root.mainloop()"
   ]
  },
  {
   "cell_type": "code",
   "execution_count": 12,
   "metadata": {},
   "outputs": [
    {
     "name": "stdout",
     "output_type": "stream",
     "text": [
      "Saved\n"
     ]
    }
   ],
   "source": [
    "# Adding Buttons\n",
    "from tkinter import *\n",
    "from tkinter import ttk\n",
    "win= Tk()\n",
    "win.geometry(\"400x300\")\n",
    "\n",
    "def save():\n",
    "   print(\"Saved\")\n",
    "\n",
    "cmdsave= ttk.Button(win, text=\"Save\",command=lambda:save())\n",
    "cmdsave.pack()\n",
    "win.mainloop()"
   ]
  },
  {
   "cell_type": "code",
   "execution_count": 17,
   "metadata": {},
   "outputs": [],
   "source": [
    "from tkinter import *\n",
    "root= Tk()\n",
    "root.geometry(\"750x280\")\n",
    "canvas= Canvas(root, width=300, height=300)\n",
    "logo = PhotoImage(file='logo.png')\n",
    "canvas.create_image((200, 140), image=logo)\n",
    "canvas.pack()\n",
    "root.mainloop()"
   ]
  },
  {
   "cell_type": "code",
   "execution_count": 21,
   "metadata": {},
   "outputs": [],
   "source": [
    "from tkinter import *\n",
    "fields = ('Annual Rate', 'Number of Payments', 'Loan Principle', 'Monthly Payment')\n",
    "def monthly_payment(entries):\n",
    "   r = (float(entries['Annual Rate'].get()) / 100) / 12\n",
    "   loan = float(entries['Loan Principle'].get())\n",
    "   n = float(entries['Number of Payments'].get())\n",
    "   q = (1 + r)** n\n",
    "   monthly = r * ( (q * loan) / ( q - 1 ))\n",
    "   monthly = (\"%8.2f\" % monthly).strip()\n",
    "   entries['Monthly Payment'].delete(0,END)\n",
    "   entries['Monthly Payment'].insert(0, monthly )\n",
    "def makeform(root, fields):\n",
    "   entries = {}\n",
    "   for field in fields:\n",
    "      row = Frame(root)\n",
    "      lab = Label(row, width=22, text=field+\": \", anchor='w')\n",
    "      ent = Entry(row)\n",
    "      ent.insert(0,\"0\")\n",
    "      row.pack(side = TOP, fill = X, padx = 5 , pady = 5)\n",
    "      lab.pack(side = LEFT)\n",
    "      ent.pack(side = RIGHT, expand = YES, fill = X)\n",
    "      entries[field] = ent\n",
    "   return entries\n",
    "if __name__ == '__main__':\n",
    "   root = Tk()\n",
    "   ents = makeform(root, fields)\n",
    "   b1 = Button(root, text='Monthly Payment',command=lambda: monthly_payment(ents))\n",
    "   b1.pack(side = LEFT, padx = 5, pady = 5)\n",
    "   root.mainloop()"
   ]
  },
  {
   "cell_type": "code",
   "execution_count": 23,
   "metadata": {},
   "outputs": [],
   "source": [
    "#Import the required Libraries\n",
    "from tkinter import *\n",
    "from tkinter import ttk\n",
    "win = Tk()\n",
    "win.title(\"Main Window\")\n",
    "win.geometry(\"750x270\")\n",
    "\n",
    "def open_popup():\n",
    "   top= Toplevel(win)\n",
    "   top.geometry(\"750x250\")\n",
    "   top.title(\"Child Window\")\n",
    "   Label(top, text= \"Hello World!\", font=('Mistral 18 bold')).place(x=150,y=80)\n",
    "\n",
    "Label(win, text=\" Click the Below Button to Open the Popup Window\", font=('Helvetica 14 bold')).pack(pady=20)\n",
    "#Create a button in the main Window to open the popup\n",
    "ttk.Button(win, text= \"Open\", command= open_popup).pack()\n",
    "win.mainloop()"
   ]
  },
  {
   "cell_type": "code",
   "execution_count": null,
   "metadata": {},
   "outputs": [],
   "source": []
  }
 ],
 "metadata": {
  "kernelspec": {
   "display_name": "Python 3",
   "language": "python",
   "name": "python3"
  },
  "language_info": {
   "codemirror_mode": {
    "name": "ipython",
    "version": 3
   },
   "file_extension": ".py",
   "mimetype": "text/x-python",
   "name": "python",
   "nbconvert_exporter": "python",
   "pygments_lexer": "ipython3",
   "version": "3.8.5"
  }
 },
 "nbformat": 4,
 "nbformat_minor": 4
}
