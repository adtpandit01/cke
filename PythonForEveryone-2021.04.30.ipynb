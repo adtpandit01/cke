{
 "cells": [
  {
   "cell_type": "code",
   "execution_count": 2,
   "metadata": {},
   "outputs": [],
   "source": [
    "import mysql.connector\n",
    "mydb = mysql.connector.connect(\n",
    "  host=\"localhost\",\n",
    "  user=\"root\",\n",
    "  password=\"\",\n",
    "  port=\"3306\",\n",
    "  database=\"pythondb\"\n",
    ")"
   ]
  },
  {
   "cell_type": "code",
   "execution_count": 3,
   "metadata": {},
   "outputs": [],
   "source": [
    "mycursor = mydb.cursor()"
   ]
  },
  {
   "cell_type": "code",
   "execution_count": 4,
   "metadata": {},
   "outputs": [],
   "source": [
    "sql=\"INSERT INTO books VALUES({},'{}','{}',{})\".format(123,\"C Programming\",\"Dr B P Sharma\",450)"
   ]
  },
  {
   "cell_type": "code",
   "execution_count": 5,
   "metadata": {},
   "outputs": [
    {
     "data": {
      "text/plain": [
       "\"INSERT INTO books VALUES(123,'C Programming','Dr B P Sharma',450)\""
      ]
     },
     "execution_count": 5,
     "metadata": {},
     "output_type": "execute_result"
    }
   ],
   "source": [
    "sql"
   ]
  },
  {
   "cell_type": "code",
   "execution_count": 6,
   "metadata": {},
   "outputs": [],
   "source": [
    "mycursor.execute(sql)"
   ]
  },
  {
   "cell_type": "code",
   "execution_count": 8,
   "metadata": {},
   "outputs": [],
   "source": [
    "mydb.commit()"
   ]
  },
  {
   "cell_type": "code",
   "execution_count": 9,
   "metadata": {},
   "outputs": [],
   "source": [
    "sql=\"INSERT INTO books VALUES({},'{}','{}',{})\".format(124,\"Java Programming\",\"Rakesh Kumar\",550)"
   ]
  },
  {
   "cell_type": "code",
   "execution_count": 10,
   "metadata": {},
   "outputs": [],
   "source": [
    "mycursor.execute(sql)"
   ]
  },
  {
   "cell_type": "code",
   "execution_count": 11,
   "metadata": {},
   "outputs": [],
   "source": [
    "mydb.commit()"
   ]
  },
  {
   "cell_type": "code",
   "execution_count": 17,
   "metadata": {},
   "outputs": [
    {
     "name": "stdout",
     "output_type": "stream",
     "text": [
      "(123, 'Advance C Programming', 'Dr B P Sharma', 450.0)\n"
     ]
    }
   ],
   "source": [
    "# View all records\n",
    "mycursor = mydb.cursor()\n",
    "mycursor.execute(\"SELECT * FROM books\")\n",
    "myresult = mycursor.fetchall()\n",
    "for x in myresult:\n",
    "  print(x)"
   ]
  },
  {
   "cell_type": "code",
   "execution_count": 15,
   "metadata": {},
   "outputs": [
    {
     "name": "stdout",
     "output_type": "stream",
     "text": [
      "(123, 'Advance C Programming', 'Dr B P Sharma', 450.0)\n"
     ]
    }
   ],
   "source": [
    "# View all records\n",
    "mycursor = mydb.cursor()\n",
    "mycursor.execute(\"SELECT * FROM books WHERE bookno=123\")\n",
    "myresult = mycursor.fetchone()\n",
    "print(myresult)"
   ]
  },
  {
   "cell_type": "code",
   "execution_count": 14,
   "metadata": {},
   "outputs": [],
   "source": [
    "\n",
    "mycursor = mydb.cursor()\n",
    "sql=\"UPDATE books SET title='{}' WHERE bookno=123\".format(\"Advance C Programming\")\n",
    "mycursor.execute(sql)\n",
    "mydb.commit()"
   ]
  },
  {
   "cell_type": "code",
   "execution_count": 16,
   "metadata": {},
   "outputs": [],
   "source": [
    "\n",
    "mycursor = mydb.cursor()\n",
    "sql=\"DELETE FROM books WHERE bookno=124\"\n",
    "mycursor.execute(sql)\n",
    "mydb.commit()"
   ]
  },
  {
   "cell_type": "code",
   "execution_count": null,
   "metadata": {},
   "outputs": [],
   "source": []
  }
 ],
 "metadata": {
  "kernelspec": {
   "display_name": "Python 3",
   "language": "python",
   "name": "python3"
  },
  "language_info": {
   "codemirror_mode": {
    "name": "ipython",
    "version": 3
   },
   "file_extension": ".py",
   "mimetype": "text/x-python",
   "name": "python",
   "nbconvert_exporter": "python",
   "pygments_lexer": "ipython3",
   "version": "3.8.5"
  }
 },
 "nbformat": 4,
 "nbformat_minor": 4
}
